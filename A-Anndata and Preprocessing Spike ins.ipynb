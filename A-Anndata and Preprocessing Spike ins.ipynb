{
 "cells": [
  {
   "cell_type": "code",
   "execution_count": 1,
   "metadata": {},
   "outputs": [
    {
     "data": {
      "text/plain": [
       "'Differential Expression and CLuster Annotation.\\nThe tasks of this project include the following\\n- Look for Upregulation of marker genes for cell types of interest\\n- Compare the complete gene expression profiles between groups\\n-Use automated methods to compare cells of interest to databases of cell \\ntype expression profiles to combine clustering and annotation'"
      ]
     },
     "execution_count": 1,
     "metadata": {},
     "output_type": "execute_result"
    }
   ],
   "source": [
    "\"\"\"Differential Expression and CLuster Annotation.\n",
    "The tasks of this project include the following\n",
    "- Look for Upregulation of marker genes for cell types of interest\n",
    "- Compare the complete gene expression profiles between groups\n",
    "-Use automated methods to compare cells of interest to databases of cell \n",
    "type expression profiles to combine clustering and annotation\"\"\"\n",
    "\n",
    "\n",
    "\n"
   ]
  },
  {
   "cell_type": "code",
   "execution_count": 2,
   "metadata": {},
   "outputs": [],
   "source": [
    "#Packages installation\n",
    "\n",
    "import scanpy as sc\n",
    "import pandas as pd\n",
    "import numpy as np\n",
    "import seaborn as sns\n",
    "from sklearn.cluster import KMeans\n",
    "from sklearn.metrics import adjusted_rand_score\n",
    "from matplotlib import pyplot as plt\n",
    "\n",
    "# to make matplotlib display inline in the jupyter notebook\n",
    "%matplotlib inline \n"
   ]
  },
  {
   "cell_type": "code",
   "execution_count": 3,
   "metadata": {},
   "outputs": [],
   "source": [
    "#Loading Data file\n",
    "bdata = sc.read('test_adata.h5ad')"
   ]
  },
  {
   "cell_type": "code",
   "execution_count": 4,
   "metadata": {},
   "outputs": [
    {
     "data": {
      "text/plain": [
       "AnnData object with n_obs × n_vars = 30474 × 13553\n",
       "    obs: 'batch_indices', 'n_genes', 'percent_mito', 'leiden_subclusters', 'cell_types', 'tissue', 'batch'\n",
       "    obsm: 'isotypes_htos', 'protein_expression'"
      ]
     },
     "execution_count": 4,
     "metadata": {},
     "output_type": "execute_result"
    }
   ],
   "source": [
    "bdata"
   ]
  },
  {
   "cell_type": "code",
   "execution_count": 5,
   "metadata": {},
   "outputs": [
    {
     "name": "stdout",
     "output_type": "stream",
     "text": [
      "(30474, 7)\n"
     ]
    },
    {
     "data": {
      "text/html": [
       "<div>\n",
       "<style scoped>\n",
       "    .dataframe tbody tr th:only-of-type {\n",
       "        vertical-align: middle;\n",
       "    }\n",
       "\n",
       "    .dataframe tbody tr th {\n",
       "        vertical-align: top;\n",
       "    }\n",
       "\n",
       "    .dataframe thead th {\n",
       "        text-align: right;\n",
       "    }\n",
       "</style>\n",
       "<table border=\"1\" class=\"dataframe\">\n",
       "  <thead>\n",
       "    <tr style=\"text-align: right;\">\n",
       "      <th></th>\n",
       "      <th>batch_indices</th>\n",
       "      <th>n_genes</th>\n",
       "      <th>percent_mito</th>\n",
       "      <th>leiden_subclusters</th>\n",
       "      <th>cell_types</th>\n",
       "      <th>tissue</th>\n",
       "      <th>batch</th>\n",
       "    </tr>\n",
       "    <tr>\n",
       "      <th>index</th>\n",
       "      <th></th>\n",
       "      <th></th>\n",
       "      <th></th>\n",
       "      <th></th>\n",
       "      <th></th>\n",
       "      <th></th>\n",
       "      <th></th>\n",
       "    </tr>\n",
       "  </thead>\n",
       "  <tbody>\n",
       "    <tr>\n",
       "      <th>AAACCCAAGGGTAATT-1</th>\n",
       "      <td>0</td>\n",
       "      <td>3137</td>\n",
       "      <td>0.062138</td>\n",
       "      <td>12,0</td>\n",
       "      <td>NKT</td>\n",
       "      <td>Spleen</td>\n",
       "      <td>SLN111-D1</td>\n",
       "    </tr>\n",
       "    <tr>\n",
       "      <th>AAACCCAAGGTAAACT-1</th>\n",
       "      <td>0</td>\n",
       "      <td>2256</td>\n",
       "      <td>0.057545</td>\n",
       "      <td>6</td>\n",
       "      <td>CD122+ CD8 T</td>\n",
       "      <td>Spleen</td>\n",
       "      <td>SLN111-D1</td>\n",
       "    </tr>\n",
       "    <tr>\n",
       "      <th>AAACCCACACTAGGTT-1</th>\n",
       "      <td>0</td>\n",
       "      <td>1367</td>\n",
       "      <td>0.058373</td>\n",
       "      <td>3</td>\n",
       "      <td>Transitional B</td>\n",
       "      <td>Spleen</td>\n",
       "      <td>SLN111-D1</td>\n",
       "    </tr>\n",
       "    <tr>\n",
       "      <th>AAACCCACAGATACCT-1</th>\n",
       "      <td>0</td>\n",
       "      <td>1567</td>\n",
       "      <td>0.065386</td>\n",
       "      <td>4</td>\n",
       "      <td>Mature B</td>\n",
       "      <td>Lymph_Node</td>\n",
       "      <td>SLN111-D1</td>\n",
       "    </tr>\n",
       "    <tr>\n",
       "      <th>AAACCCACAGGAATAT-1</th>\n",
       "      <td>0</td>\n",
       "      <td>1895</td>\n",
       "      <td>0.059644</td>\n",
       "      <td>0</td>\n",
       "      <td>CD4 T</td>\n",
       "      <td>Lymph_Node</td>\n",
       "      <td>SLN111-D1</td>\n",
       "    </tr>\n",
       "  </tbody>\n",
       "</table>\n",
       "</div>"
      ],
      "text/plain": [
       "                    batch_indices  n_genes  percent_mito leiden_subclusters  \\\n",
       "index                                                                         \n",
       "AAACCCAAGGGTAATT-1              0     3137      0.062138               12,0   \n",
       "AAACCCAAGGTAAACT-1              0     2256      0.057545                  6   \n",
       "AAACCCACACTAGGTT-1              0     1367      0.058373                  3   \n",
       "AAACCCACAGATACCT-1              0     1567      0.065386                  4   \n",
       "AAACCCACAGGAATAT-1              0     1895      0.059644                  0   \n",
       "\n",
       "                        cell_types      tissue      batch  \n",
       "index                                                      \n",
       "AAACCCAAGGGTAATT-1             NKT      Spleen  SLN111-D1  \n",
       "AAACCCAAGGTAAACT-1    CD122+ CD8 T      Spleen  SLN111-D1  \n",
       "AAACCCACACTAGGTT-1  Transitional B      Spleen  SLN111-D1  \n",
       "AAACCCACAGATACCT-1        Mature B  Lymph_Node  SLN111-D1  \n",
       "AAACCCACAGGAATAT-1           CD4 T  Lymph_Node  SLN111-D1  "
      ]
     },
     "execution_count": 5,
     "metadata": {},
     "output_type": "execute_result"
    }
   ],
   "source": [
    "print(bdata.obs.shape)\n",
    "bdata.obs.head()\n",
    "#obtains top observation data across each cell"
   ]
  },
  {
   "cell_type": "code",
   "execution_count": 6,
   "metadata": {},
   "outputs": [
    {
     "name": "stdout",
     "output_type": "stream",
     "text": [
      "(13553, 0)\n"
     ]
    },
    {
     "data": {
      "text/html": [
       "<div>\n",
       "<style scoped>\n",
       "    .dataframe tbody tr th:only-of-type {\n",
       "        vertical-align: middle;\n",
       "    }\n",
       "\n",
       "    .dataframe tbody tr th {\n",
       "        vertical-align: top;\n",
       "    }\n",
       "\n",
       "    .dataframe thead th {\n",
       "        text-align: right;\n",
       "    }\n",
       "</style>\n",
       "<table border=\"1\" class=\"dataframe\">\n",
       "  <thead>\n",
       "    <tr style=\"text-align: right;\">\n",
       "      <th></th>\n",
       "    </tr>\n",
       "    <tr>\n",
       "      <th>index</th>\n",
       "    </tr>\n",
       "  </thead>\n",
       "  <tbody>\n",
       "    <tr>\n",
       "      <th>Mrpl15</th>\n",
       "    </tr>\n",
       "    <tr>\n",
       "      <th>Lypla1</th>\n",
       "    </tr>\n",
       "    <tr>\n",
       "      <th>Tcea1</th>\n",
       "    </tr>\n",
       "    <tr>\n",
       "      <th>Atp6v1h</th>\n",
       "    </tr>\n",
       "    <tr>\n",
       "      <th>Rb1cc1</th>\n",
       "    </tr>\n",
       "  </tbody>\n",
       "</table>\n",
       "</div>"
      ],
      "text/plain": [
       "Empty DataFrame\n",
       "Columns: []\n",
       "Index: [Mrpl15, Lypla1, Tcea1, Atp6v1h, Rb1cc1]"
      ]
     },
     "execution_count": 6,
     "metadata": {},
     "output_type": "execute_result"
    }
   ],
   "source": [
    "#getting more details about bdata\n",
    "print(bdata.var.shape)\n",
    "bdata.var.head()\n",
    "\n",
    "#bdata.var was used to retreive information about genes present in data set"
   ]
  },
  {
   "cell_type": "code",
   "execution_count": 7,
   "metadata": {},
   "outputs": [
    {
     "data": {
      "text/plain": [
       "Index(['Mrpl15', 'Lypla1', 'Tcea1', 'Atp6v1h', 'Rb1cc1', '4732440D04Rik',\n",
       "       'Pcmtd1', 'Gm26901', 'Rrs1', 'Adhfe1',\n",
       "       ...\n",
       "       'Tmlhe', 'AC133103.1', 'AC132444.1', 'Csprs', 'AC132444.6',\n",
       "       'AC125149.3', 'AC168977.1', 'PISD', 'DHRSX', 'CAAA01147332.1'],\n",
       "      dtype='object', name='index', length=13553)"
      ]
     },
     "execution_count": 7,
     "metadata": {},
     "output_type": "execute_result"
    }
   ],
   "source": [
    "bdata.var_names  #names of all genes present"
   ]
  },
  {
   "cell_type": "code",
   "execution_count": 8,
   "metadata": {},
   "outputs": [
    {
     "data": {
      "text/plain": [
       "<30474x13553 sparse matrix of type '<class 'numpy.float32'>'\n",
       "\twith 43762899 stored elements in Compressed Sparse Row format>"
      ]
     },
     "execution_count": 8,
     "metadata": {},
     "output_type": "execute_result"
    }
   ],
   "source": [
    "bdata.X #create numpy array of Cells for X number of genes"
   ]
  },
  {
   "cell_type": "code",
   "execution_count": 12,
   "metadata": {},
   "outputs": [
    {
     "data": {
      "text/html": [
       "<div>\n",
       "<style scoped>\n",
       "    .dataframe tbody tr th:only-of-type {\n",
       "        vertical-align: middle;\n",
       "    }\n",
       "\n",
       "    .dataframe tbody tr th {\n",
       "        vertical-align: top;\n",
       "    }\n",
       "\n",
       "    .dataframe thead th {\n",
       "        text-align: right;\n",
       "    }\n",
       "</style>\n",
       "<table border=\"1\" class=\"dataframe\">\n",
       "  <thead>\n",
       "    <tr style=\"text-align: right;\">\n",
       "      <th></th>\n",
       "      <th>0610005C13Rik</th>\n",
       "      <th>0610007C21Rik</th>\n",
       "      <th>0610007L01Rik</th>\n",
       "      <th>0610007N19Rik</th>\n",
       "      <th>0610007P08Rik</th>\n",
       "      <th>0610007P14Rik</th>\n",
       "      <th>0610007P22Rik</th>\n",
       "      <th>0610008F07Rik</th>\n",
       "      <th>0610009B14Rik</th>\n",
       "      <th>0610009B22Rik</th>\n",
       "      <th>...</th>\n",
       "      <th>Zxdb</th>\n",
       "      <th>Zxdc</th>\n",
       "      <th>Zyg11a</th>\n",
       "      <th>Zyg11b</th>\n",
       "      <th>Zyx</th>\n",
       "      <th>Zzef1</th>\n",
       "      <th>Zzz3</th>\n",
       "      <th>a</th>\n",
       "      <th>l7Rn6</th>\n",
       "      <th>zsGreen_transgene</th>\n",
       "    </tr>\n",
       "  </thead>\n",
       "  <tbody>\n",
       "    <tr>\n",
       "      <th>A1.B003290.3_38_F.1.1</th>\n",
       "      <td>0</td>\n",
       "      <td>125</td>\n",
       "      <td>16</td>\n",
       "      <td>0</td>\n",
       "      <td>0</td>\n",
       "      <td>0</td>\n",
       "      <td>0</td>\n",
       "      <td>0</td>\n",
       "      <td>0</td>\n",
       "      <td>0</td>\n",
       "      <td>...</td>\n",
       "      <td>0</td>\n",
       "      <td>0</td>\n",
       "      <td>0</td>\n",
       "      <td>0</td>\n",
       "      <td>0</td>\n",
       "      <td>0</td>\n",
       "      <td>0</td>\n",
       "      <td>0</td>\n",
       "      <td>54</td>\n",
       "      <td>0</td>\n",
       "    </tr>\n",
       "    <tr>\n",
       "      <th>A1.B003728.3_56_F.1.1</th>\n",
       "      <td>0</td>\n",
       "      <td>0</td>\n",
       "      <td>0</td>\n",
       "      <td>0</td>\n",
       "      <td>0</td>\n",
       "      <td>324</td>\n",
       "      <td>0</td>\n",
       "      <td>0</td>\n",
       "      <td>0</td>\n",
       "      <td>0</td>\n",
       "      <td>...</td>\n",
       "      <td>0</td>\n",
       "      <td>0</td>\n",
       "      <td>0</td>\n",
       "      <td>0</td>\n",
       "      <td>0</td>\n",
       "      <td>0</td>\n",
       "      <td>0</td>\n",
       "      <td>0</td>\n",
       "      <td>0</td>\n",
       "      <td>0</td>\n",
       "    </tr>\n",
       "  </tbody>\n",
       "</table>\n",
       "<p>2 rows × 23433 columns</p>\n",
       "</div>"
      ],
      "text/plain": [
       "                       0610005C13Rik  0610007C21Rik  0610007L01Rik  \\\n",
       "A1.B003290.3_38_F.1.1              0            125             16   \n",
       "A1.B003728.3_56_F.1.1              0              0              0   \n",
       "\n",
       "                       0610007N19Rik  0610007P08Rik  0610007P14Rik  \\\n",
       "A1.B003290.3_38_F.1.1              0              0              0   \n",
       "A1.B003728.3_56_F.1.1              0              0            324   \n",
       "\n",
       "                       0610007P22Rik  0610008F07Rik  0610009B14Rik  \\\n",
       "A1.B003290.3_38_F.1.1              0              0              0   \n",
       "A1.B003728.3_56_F.1.1              0              0              0   \n",
       "\n",
       "                       0610009B22Rik  ...  Zxdb  Zxdc  Zyg11a  Zyg11b  Zyx  \\\n",
       "A1.B003290.3_38_F.1.1              0  ...     0     0       0       0    0   \n",
       "A1.B003728.3_56_F.1.1              0  ...     0     0       0       0    0   \n",
       "\n",
       "                       Zzef1  Zzz3  a  l7Rn6  zsGreen_transgene  \n",
       "A1.B003290.3_38_F.1.1      0     0  0     54                  0  \n",
       "A1.B003728.3_56_F.1.1      0     0  0      0                  0  \n",
       "\n",
       "[2 rows x 23433 columns]"
      ]
     },
     "execution_count": 12,
     "metadata": {},
     "output_type": "execute_result"
    }
   ],
   "source": [
    "#Creating AnnData from csv files in dataset\n",
    "\n",
    "count_dataframe = pd.read_csv('brain_counts.csv', index_col=0) #use first columns to label rows\n",
    "\n",
    "\n",
    "#print first two rows of data frame\n",
    "\n",
    "count_dataframe.head(2)"
   ]
  },
  {
   "cell_type": "code",
   "execution_count": 13,
   "metadata": {},
   "outputs": [
    {
     "name": "stdout",
     "output_type": "stream",
     "text": [
      "(3401, 23433)\n"
     ]
    }
   ],
   "source": [
    "#shape of count data frame indicating number of cells and number of genes\n",
    "print(count_dataframe.shape)"
   ]
  },
  {
   "cell_type": "code",
   "execution_count": 14,
   "metadata": {},
   "outputs": [
    {
     "name": "stdout",
     "output_type": "stream",
     "text": [
      "(3401, 5)\n"
     ]
    },
    {
     "data": {
      "text/html": [
       "<div>\n",
       "<style scoped>\n",
       "    .dataframe tbody tr th:only-of-type {\n",
       "        vertical-align: middle;\n",
       "    }\n",
       "\n",
       "    .dataframe tbody tr th {\n",
       "        vertical-align: top;\n",
       "    }\n",
       "\n",
       "    .dataframe thead th {\n",
       "        text-align: right;\n",
       "    }\n",
       "</style>\n",
       "<table border=\"1\" class=\"dataframe\">\n",
       "  <thead>\n",
       "    <tr style=\"text-align: right;\">\n",
       "      <th></th>\n",
       "      <th>cell_ontology_class</th>\n",
       "      <th>subtissue</th>\n",
       "      <th>mouse.sex</th>\n",
       "      <th>mouse.id</th>\n",
       "      <th>plate.barcode</th>\n",
       "    </tr>\n",
       "    <tr>\n",
       "      <th>cell</th>\n",
       "      <th></th>\n",
       "      <th></th>\n",
       "      <th></th>\n",
       "      <th></th>\n",
       "      <th></th>\n",
       "    </tr>\n",
       "  </thead>\n",
       "  <tbody>\n",
       "    <tr>\n",
       "      <th>A1.B003290.3_38_F.1.1</th>\n",
       "      <td>astrocyte</td>\n",
       "      <td>Striatum</td>\n",
       "      <td>F</td>\n",
       "      <td>3_38_F</td>\n",
       "      <td>B003290</td>\n",
       "    </tr>\n",
       "    <tr>\n",
       "      <th>A1.B003728.3_56_F.1.1</th>\n",
       "      <td>astrocyte</td>\n",
       "      <td>Striatum</td>\n",
       "      <td>F</td>\n",
       "      <td>3_56_F</td>\n",
       "      <td>B003728</td>\n",
       "    </tr>\n",
       "  </tbody>\n",
       "</table>\n",
       "</div>"
      ],
      "text/plain": [
       "                      cell_ontology_class subtissue mouse.sex mouse.id  \\\n",
       "cell                                                                     \n",
       "A1.B003290.3_38_F.1.1           astrocyte  Striatum         F   3_38_F   \n",
       "A1.B003728.3_56_F.1.1           astrocyte  Striatum         F   3_56_F   \n",
       "\n",
       "                      plate.barcode  \n",
       "cell                                 \n",
       "A1.B003290.3_38_F.1.1       B003290  \n",
       "A1.B003728.3_56_F.1.1       B003728  "
      ]
     },
     "execution_count": 14,
     "metadata": {},
     "output_type": "execute_result"
    }
   ],
   "source": [
    "\"\"\" BRAIN METADATA\"\"\"\n",
    "\n",
    "metadata_dataframe = pd.read_csv('brain_metadata.csv', index_col=0)\n",
    "\n",
    "print(metadata_dataframe.shape)\n",
    "metadata_dataframe.head(2)\n",
    "\n",
    "#meta data shows 5 columns of informatino about 3,401 cells"
   ]
  },
  {
   "cell_type": "code",
   "execution_count": 15,
   "metadata": {},
   "outputs": [
    {
     "name": "stdout",
     "output_type": "stream",
     "text": [
      "Cortex         1149\n",
      "Hippocampus     976\n",
      "Striatum        723\n",
      "Cerebellum      553\n",
      "Name: subtissue, dtype: int64\n"
     ]
    }
   ],
   "source": [
    "#counting the number of times each value appears in a column like the following:\n",
    "print(pd.value_counts(metadata_dataframe['subtissue']))\n"
   ]
  },
  {
   "cell_type": "code",
   "execution_count": 19,
   "metadata": {},
   "outputs": [
    {
     "name": "stderr",
     "output_type": "stream",
     "text": [
      "C:\\Users\\samen\\AppData\\Local\\Temp/ipykernel_14536/3732495509.py:3: FutureWarning: X.dtype being converted to np.float32 from int64. In the next version of anndata (0.9) conversion will not be automatic. Pass dtype explicitly to avoid this warning. Pass `AnnData(X, dtype=X.dtype, ...)` to get the future behavour.\n",
      "  adata = sc.AnnData(X= count_dataframe, obs= metadata_dataframe)\n"
     ]
    },
    {
     "name": "stdout",
     "output_type": "stream",
     "text": [
      "(3401, 23433)\n"
     ]
    },
    {
     "data": {
      "text/plain": [
       "array([[  0., 125.,  16., ...,   0.,  54.,   0.],\n",
       "       [  0.,   0.,   0., ...,   0.,   0.,   0.],\n",
       "       [  0., 348.,   0., ...,   0., 113.,   0.],\n",
       "       ...,\n",
       "       [  0., 135.,  41., ...,   0.,  45.,   0.],\n",
       "       [  0., 129.,  54., ...,   0.,  57.,   0.],\n",
       "       [  0.,   1.,   0., ...,   0.,   0.,   0.]], dtype=float32)"
      ]
     },
     "execution_count": 19,
     "metadata": {},
     "output_type": "execute_result"
    }
   ],
   "source": [
    "\"\"\"CONSTRUCTING AnnData USING two CSV files\"\"\"\n",
    "\n",
    "adata = sc.AnnData(X= count_dataframe, obs= metadata_dataframe)\n",
    "\n",
    "print(adata.shape)\n",
    "\n",
    "adata.X #expression matrix\n"
   ]
  },
  {
   "cell_type": "markdown",
   "metadata": {},
   "source": [
    "\"\"\"Labelling Spike-ins\n",
    "Because this is smartseq2 data, we may have spike-ins. An RNA spike-in is an RNA transcript of known sequence and quantity used to calibrate measurements in RNA hybridization assays, such as DNA microarray experiments, RT-qPCR, and RNA-Seq.\n",
    "\n",
    "A spike-in is designed to bind to a DNA molecule with a matching sequence, known as a control probe. This process of specific binding is called hybridization. A known quantity of RNA spike-in is mixed with the experiment sample during preparation. The degree of hybridization between the spike-ins and the control probes is used to normalize the hybridization measurements of the sample RNA.\n",
    "\n",
    "These gene names start with ERCC. We can label them in adata.var as a gene annotation. \"\"\""
   ]
  },
  {
   "cell_type": "code",
   "execution_count": 20,
   "metadata": {},
   "outputs": [
    {
     "name": "stdout",
     "output_type": "stream",
     "text": [
      "found this many spike ins:  92\n"
     ]
    }
   ],
   "source": [
    "is_spike_in = {}\n",
    "number_of_spike_ins = 0\n",
    "\n",
    "for gene_name in adata.var_names:\n",
    "    if 'ERCC' in gene_name:\n",
    "        is_spike_in[gene_name] = True #record that we found a spike-in\n",
    "        number_of_spike_ins += 1 #increase the counter\n",
    "    else: \n",
    "        is_spike_in[gene_name] = False #record that  isn't a spike-in\n",
    "\n",
    "adata.var['ERCC'] = pd.Series(is_spike_in)# because the index of adata.var and they keys of is_spike_in match, anndata will take care of matching them up\n",
    "print('found this many spike ins: ', number_of_spike_ins)\n",
    "\n",
    "#This code finds all the spike-ins, counted them as True in the gene info.var and counted non spike ins as false"
   ]
  },
  {
   "cell_type": "code",
   "execution_count": 21,
   "metadata": {},
   "outputs": [
    {
     "data": {
      "text/html": [
       "<div>\n",
       "<style scoped>\n",
       "    .dataframe tbody tr th:only-of-type {\n",
       "        vertical-align: middle;\n",
       "    }\n",
       "\n",
       "    .dataframe tbody tr th {\n",
       "        vertical-align: top;\n",
       "    }\n",
       "\n",
       "    .dataframe thead th {\n",
       "        text-align: right;\n",
       "    }\n",
       "</style>\n",
       "<table border=\"1\" class=\"dataframe\">\n",
       "  <thead>\n",
       "    <tr style=\"text-align: right;\">\n",
       "      <th></th>\n",
       "      <th>ERCC</th>\n",
       "    </tr>\n",
       "  </thead>\n",
       "  <tbody>\n",
       "    <tr>\n",
       "      <th>0610005C13Rik</th>\n",
       "      <td>False</td>\n",
       "    </tr>\n",
       "    <tr>\n",
       "      <th>0610007C21Rik</th>\n",
       "      <td>False</td>\n",
       "    </tr>\n",
       "    <tr>\n",
       "      <th>0610007L01Rik</th>\n",
       "      <td>False</td>\n",
       "    </tr>\n",
       "    <tr>\n",
       "      <th>0610007N19Rik</th>\n",
       "      <td>False</td>\n",
       "    </tr>\n",
       "    <tr>\n",
       "      <th>0610007P08Rik</th>\n",
       "      <td>False</td>\n",
       "    </tr>\n",
       "  </tbody>\n",
       "</table>\n",
       "</div>"
      ],
      "text/plain": [
       "                ERCC\n",
       "0610005C13Rik  False\n",
       "0610007C21Rik  False\n",
       "0610007L01Rik  False\n",
       "0610007N19Rik  False\n",
       "0610007P08Rik  False"
      ]
     },
     "execution_count": 21,
     "metadata": {},
     "output_type": "execute_result"
    }
   ],
   "source": [
    "adata.var.head()"
   ]
  },
  {
   "cell_type": "code",
   "execution_count": 22,
   "metadata": {},
   "outputs": [],
   "source": [
    "#Saving the AnnData object later use\n",
    "adata.write('brain_raw.h5ad') #the h5ad extension is AnnData-specific"
   ]
  }
 ],
 "metadata": {
  "interpreter": {
   "hash": "f9e49102ce60fd31ba360e1265a4d71517ad010be2713ad92243b7155191a4c9"
  },
  "kernelspec": {
   "display_name": "Python 3.8.12 ('base')",
   "language": "python",
   "name": "python3"
  },
  "language_info": {
   "codemirror_mode": {
    "name": "ipython",
    "version": 3
   },
   "file_extension": ".py",
   "mimetype": "text/x-python",
   "name": "python",
   "nbconvert_exporter": "python",
   "pygments_lexer": "ipython3",
   "version": "3.8.12"
  },
  "orig_nbformat": 4
 },
 "nbformat": 4,
 "nbformat_minor": 2
}
