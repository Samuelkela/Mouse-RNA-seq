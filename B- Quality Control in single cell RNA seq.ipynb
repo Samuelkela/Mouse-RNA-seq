{
 "cells": [
  {
   "cell_type": "code",
   "execution_count": null,
   "metadata": {},
   "outputs": [],
   "source": [
    "'''Once we have our expression matrix, \n",
    "it will be examined to remove poor quality cells which were not \n",
    "detected in the initial processing of the raw reads.\n",
    "Failure to remove these low quality cells at this stage may add technical\n",
    "noise which has the potential to obscure he biological signals of\n",
    "interest in the downstream analysis.\n",
    "\n",
    "To perform QC I will be looking for cells which are outliers \n",
    "with respect to the rest of the dataset rather than comparing to \n",
    "independent quality standards. Consequently, care should be taken when\n",
    "comparing quality metrics across datasets collected using different\n",
    " protocols. '''"
   ]
  },
  {
   "cell_type": "code",
   "execution_count": 1,
   "metadata": {},
   "outputs": [],
   "source": [
    "import scanpy as sc #this package handles the AnnData\n",
    "import pandas as pd #to handle Dataframes\n",
    "import matplotlib.pyplot as plt #import matplotlib to visualize QC metrics\n",
    "\n",
    "#a little magic incantation to allow matplotlib work in the jupyter notebook\n",
    "%matplotlib inline  \n"
   ]
  },
  {
   "cell_type": "code",
   "execution_count": 2,
   "metadata": {},
   "outputs": [
    {
     "data": {
      "text/html": [
       "<div>\n",
       "<style scoped>\n",
       "    .dataframe tbody tr th:only-of-type {\n",
       "        vertical-align: middle;\n",
       "    }\n",
       "\n",
       "    .dataframe tbody tr th {\n",
       "        vertical-align: top;\n",
       "    }\n",
       "\n",
       "    .dataframe thead th {\n",
       "        text-align: right;\n",
       "    }\n",
       "</style>\n",
       "<table border=\"1\" class=\"dataframe\">\n",
       "  <thead>\n",
       "    <tr style=\"text-align: right;\">\n",
       "      <th></th>\n",
       "      <th>cell_ontology_class</th>\n",
       "      <th>subtissue</th>\n",
       "      <th>mouse.sex</th>\n",
       "      <th>mouse.id</th>\n",
       "      <th>plate.barcode</th>\n",
       "    </tr>\n",
       "    <tr>\n",
       "      <th>cell</th>\n",
       "      <th></th>\n",
       "      <th></th>\n",
       "      <th></th>\n",
       "      <th></th>\n",
       "      <th></th>\n",
       "    </tr>\n",
       "  </thead>\n",
       "  <tbody>\n",
       "    <tr>\n",
       "      <th>A1.B003290.3_38_F.1.1</th>\n",
       "      <td>astrocyte</td>\n",
       "      <td>Striatum</td>\n",
       "      <td>F</td>\n",
       "      <td>3_38_F</td>\n",
       "      <td>B003290</td>\n",
       "    </tr>\n",
       "    <tr>\n",
       "      <th>A1.B003728.3_56_F.1.1</th>\n",
       "      <td>astrocyte</td>\n",
       "      <td>Striatum</td>\n",
       "      <td>F</td>\n",
       "      <td>3_56_F</td>\n",
       "      <td>B003728</td>\n",
       "    </tr>\n",
       "    <tr>\n",
       "      <th>A1.MAA000560.3_10_M.1.1</th>\n",
       "      <td>oligodendrocyte</td>\n",
       "      <td>Cortex</td>\n",
       "      <td>M</td>\n",
       "      <td>3_10_M</td>\n",
       "      <td>MAA000560</td>\n",
       "    </tr>\n",
       "    <tr>\n",
       "      <th>A1.MAA000564.3_10_M.1.1</th>\n",
       "      <td>endothelial cell</td>\n",
       "      <td>Striatum</td>\n",
       "      <td>M</td>\n",
       "      <td>3_10_M</td>\n",
       "      <td>MAA000564</td>\n",
       "    </tr>\n",
       "    <tr>\n",
       "      <th>A1.MAA000923.3_9_M.1.1</th>\n",
       "      <td>astrocyte</td>\n",
       "      <td>Hippocampus</td>\n",
       "      <td>M</td>\n",
       "      <td>3_9_M</td>\n",
       "      <td>MAA000923</td>\n",
       "    </tr>\n",
       "  </tbody>\n",
       "</table>\n",
       "</div>"
      ],
      "text/plain": [
       "                        cell_ontology_class    subtissue mouse.sex mouse.id  \\\n",
       "cell                                                                          \n",
       "A1.B003290.3_38_F.1.1             astrocyte     Striatum         F   3_38_F   \n",
       "A1.B003728.3_56_F.1.1             astrocyte     Striatum         F   3_56_F   \n",
       "A1.MAA000560.3_10_M.1.1     oligodendrocyte       Cortex         M   3_10_M   \n",
       "A1.MAA000564.3_10_M.1.1    endothelial cell     Striatum         M   3_10_M   \n",
       "A1.MAA000923.3_9_M.1.1            astrocyte  Hippocampus         M    3_9_M   \n",
       "\n",
       "                        plate.barcode  \n",
       "cell                                   \n",
       "A1.B003290.3_38_F.1.1         B003290  \n",
       "A1.B003728.3_56_F.1.1         B003728  \n",
       "A1.MAA000560.3_10_M.1.1     MAA000560  \n",
       "A1.MAA000564.3_10_M.1.1     MAA000564  \n",
       "A1.MAA000923.3_9_M.1.1      MAA000923  "
      ]
     },
     "execution_count": 2,
     "metadata": {},
     "output_type": "execute_result"
    }
   ],
   "source": [
    "#LOADING DATA\n",
    "adata = sc.read('brain_raw.h5ad')\n",
    "\n",
    "adata.obs.head()\n"
   ]
  },
  {
   "cell_type": "code",
   "execution_count": 3,
   "metadata": {},
   "outputs": [
    {
     "data": {
      "text/html": [
       "<div>\n",
       "<style scoped>\n",
       "    .dataframe tbody tr th:only-of-type {\n",
       "        vertical-align: middle;\n",
       "    }\n",
       "\n",
       "    .dataframe tbody tr th {\n",
       "        vertical-align: top;\n",
       "    }\n",
       "\n",
       "    .dataframe thead th {\n",
       "        text-align: right;\n",
       "    }\n",
       "</style>\n",
       "<table border=\"1\" class=\"dataframe\">\n",
       "  <thead>\n",
       "    <tr style=\"text-align: right;\">\n",
       "      <th></th>\n",
       "      <th>ERCC</th>\n",
       "    </tr>\n",
       "  </thead>\n",
       "  <tbody>\n",
       "    <tr>\n",
       "      <th>0610005C13Rik</th>\n",
       "      <td>False</td>\n",
       "    </tr>\n",
       "    <tr>\n",
       "      <th>0610007C21Rik</th>\n",
       "      <td>False</td>\n",
       "    </tr>\n",
       "    <tr>\n",
       "      <th>0610007L01Rik</th>\n",
       "      <td>False</td>\n",
       "    </tr>\n",
       "    <tr>\n",
       "      <th>0610007N19Rik</th>\n",
       "      <td>False</td>\n",
       "    </tr>\n",
       "    <tr>\n",
       "      <th>0610007P08Rik</th>\n",
       "      <td>False</td>\n",
       "    </tr>\n",
       "  </tbody>\n",
       "</table>\n",
       "</div>"
      ],
      "text/plain": [
       "                ERCC\n",
       "0610005C13Rik  False\n",
       "0610007C21Rik  False\n",
       "0610007L01Rik  False\n",
       "0610007N19Rik  False\n",
       "0610007P08Rik  False"
      ]
     },
     "execution_count": 3,
     "metadata": {},
     "output_type": "execute_result"
    }
   ],
   "source": [
    "adata.var.head()\n"
   ]
  },
  {
   "cell_type": "code",
   "execution_count": null,
   "metadata": {},
   "outputs": [],
   "source": [
    "#COMPUTING CONTROL METRICS\n",
    "'''  computing quality metrics and then filter cells and genes\n",
    "accordingly.\n",
    "The calculate_qc_metrics function returns two dataframes: one containing\n",
    "quality control metrics about cells, and one containing metrics about \n",
    "genes. This function is housed in the 'preprocessing' portion of the \n",
    "SCANPY library.\n",
    "\n",
    "calculate_qc_metrics when ['ERCC'] is inserted, \n",
    "it returns the information of both cells and \n",
    "genes with respect to Spike-ins'''"
   ]
  },
  {
   "cell_type": "code",
   "execution_count": 4,
   "metadata": {},
   "outputs": [
    {
     "name": "stdout",
     "output_type": "stream",
     "text": [
      "This is the cell quality control dataframe:\n"
     ]
    },
    {
     "data": {
      "text/html": [
       "<div>\n",
       "<style scoped>\n",
       "    .dataframe tbody tr th:only-of-type {\n",
       "        vertical-align: middle;\n",
       "    }\n",
       "\n",
       "    .dataframe tbody tr th {\n",
       "        vertical-align: top;\n",
       "    }\n",
       "\n",
       "    .dataframe thead th {\n",
       "        text-align: right;\n",
       "    }\n",
       "</style>\n",
       "<table border=\"1\" class=\"dataframe\">\n",
       "  <thead>\n",
       "    <tr style=\"text-align: right;\">\n",
       "      <th></th>\n",
       "      <th>n_genes_by_counts</th>\n",
       "      <th>log1p_n_genes_by_counts</th>\n",
       "      <th>total_counts</th>\n",
       "      <th>log1p_total_counts</th>\n",
       "      <th>pct_counts_in_top_50_genes</th>\n",
       "      <th>pct_counts_in_top_100_genes</th>\n",
       "      <th>pct_counts_in_top_200_genes</th>\n",
       "      <th>pct_counts_in_top_500_genes</th>\n",
       "      <th>total_counts_ERCC</th>\n",
       "      <th>log1p_total_counts_ERCC</th>\n",
       "      <th>pct_counts_ERCC</th>\n",
       "    </tr>\n",
       "    <tr>\n",
       "      <th>cell</th>\n",
       "      <th></th>\n",
       "      <th></th>\n",
       "      <th></th>\n",
       "      <th></th>\n",
       "      <th></th>\n",
       "      <th></th>\n",
       "      <th></th>\n",
       "      <th></th>\n",
       "      <th></th>\n",
       "      <th></th>\n",
       "      <th></th>\n",
       "    </tr>\n",
       "  </thead>\n",
       "  <tbody>\n",
       "    <tr>\n",
       "      <th>A1.B003290.3_38_F.1.1</th>\n",
       "      <td>3359</td>\n",
       "      <td>8.119696</td>\n",
       "      <td>390075.0</td>\n",
       "      <td>12.874097</td>\n",
       "      <td>25.884766</td>\n",
       "      <td>32.847017</td>\n",
       "      <td>42.219573</td>\n",
       "      <td>59.472666</td>\n",
       "      <td>10201.0</td>\n",
       "      <td>9.230339</td>\n",
       "      <td>2.615138</td>\n",
       "    </tr>\n",
       "    <tr>\n",
       "      <th>A1.B003728.3_56_F.1.1</th>\n",
       "      <td>1718</td>\n",
       "      <td>7.449498</td>\n",
       "      <td>776439.0</td>\n",
       "      <td>13.562474</td>\n",
       "      <td>43.051933</td>\n",
       "      <td>52.912721</td>\n",
       "      <td>65.313309</td>\n",
       "      <td>87.315423</td>\n",
       "      <td>67351.0</td>\n",
       "      <td>11.117688</td>\n",
       "      <td>8.674345</td>\n",
       "    </tr>\n",
       "    <tr>\n",
       "      <th>A1.MAA000560.3_10_M.1.1</th>\n",
       "      <td>3910</td>\n",
       "      <td>8.271548</td>\n",
       "      <td>1616087.0</td>\n",
       "      <td>14.295519</td>\n",
       "      <td>44.066006</td>\n",
       "      <td>51.514553</td>\n",
       "      <td>60.164211</td>\n",
       "      <td>74.451190</td>\n",
       "      <td>29870.0</td>\n",
       "      <td>10.304644</td>\n",
       "      <td>1.848292</td>\n",
       "    </tr>\n",
       "    <tr>\n",
       "      <th>A1.MAA000564.3_10_M.1.1</th>\n",
       "      <td>4352</td>\n",
       "      <td>8.378621</td>\n",
       "      <td>360004.0</td>\n",
       "      <td>12.793873</td>\n",
       "      <td>41.650926</td>\n",
       "      <td>48.958623</td>\n",
       "      <td>56.997422</td>\n",
       "      <td>69.736170</td>\n",
       "      <td>2592.0</td>\n",
       "      <td>7.860571</td>\n",
       "      <td>0.719992</td>\n",
       "    </tr>\n",
       "    <tr>\n",
       "      <th>A1.MAA000923.3_9_M.1.1</th>\n",
       "      <td>2248</td>\n",
       "      <td>7.718241</td>\n",
       "      <td>290282.0</td>\n",
       "      <td>12.578611</td>\n",
       "      <td>63.392494</td>\n",
       "      <td>69.136908</td>\n",
       "      <td>77.168753</td>\n",
       "      <td>90.522320</td>\n",
       "      <td>11002.0</td>\n",
       "      <td>9.305923</td>\n",
       "      <td>3.790107</td>\n",
       "    </tr>\n",
       "  </tbody>\n",
       "</table>\n",
       "</div>"
      ],
      "text/plain": [
       "                         n_genes_by_counts  log1p_n_genes_by_counts  \\\n",
       "cell                                                                  \n",
       "A1.B003290.3_38_F.1.1                 3359                 8.119696   \n",
       "A1.B003728.3_56_F.1.1                 1718                 7.449498   \n",
       "A1.MAA000560.3_10_M.1.1               3910                 8.271548   \n",
       "A1.MAA000564.3_10_M.1.1               4352                 8.378621   \n",
       "A1.MAA000923.3_9_M.1.1                2248                 7.718241   \n",
       "\n",
       "                         total_counts  log1p_total_counts  \\\n",
       "cell                                                        \n",
       "A1.B003290.3_38_F.1.1        390075.0           12.874097   \n",
       "A1.B003728.3_56_F.1.1        776439.0           13.562474   \n",
       "A1.MAA000560.3_10_M.1.1     1616087.0           14.295519   \n",
       "A1.MAA000564.3_10_M.1.1      360004.0           12.793873   \n",
       "A1.MAA000923.3_9_M.1.1       290282.0           12.578611   \n",
       "\n",
       "                         pct_counts_in_top_50_genes  \\\n",
       "cell                                                  \n",
       "A1.B003290.3_38_F.1.1                     25.884766   \n",
       "A1.B003728.3_56_F.1.1                     43.051933   \n",
       "A1.MAA000560.3_10_M.1.1                   44.066006   \n",
       "A1.MAA000564.3_10_M.1.1                   41.650926   \n",
       "A1.MAA000923.3_9_M.1.1                    63.392494   \n",
       "\n",
       "                         pct_counts_in_top_100_genes  \\\n",
       "cell                                                   \n",
       "A1.B003290.3_38_F.1.1                      32.847017   \n",
       "A1.B003728.3_56_F.1.1                      52.912721   \n",
       "A1.MAA000560.3_10_M.1.1                    51.514553   \n",
       "A1.MAA000564.3_10_M.1.1                    48.958623   \n",
       "A1.MAA000923.3_9_M.1.1                     69.136908   \n",
       "\n",
       "                         pct_counts_in_top_200_genes  \\\n",
       "cell                                                   \n",
       "A1.B003290.3_38_F.1.1                      42.219573   \n",
       "A1.B003728.3_56_F.1.1                      65.313309   \n",
       "A1.MAA000560.3_10_M.1.1                    60.164211   \n",
       "A1.MAA000564.3_10_M.1.1                    56.997422   \n",
       "A1.MAA000923.3_9_M.1.1                     77.168753   \n",
       "\n",
       "                         pct_counts_in_top_500_genes  total_counts_ERCC  \\\n",
       "cell                                                                      \n",
       "A1.B003290.3_38_F.1.1                      59.472666            10201.0   \n",
       "A1.B003728.3_56_F.1.1                      87.315423            67351.0   \n",
       "A1.MAA000560.3_10_M.1.1                    74.451190            29870.0   \n",
       "A1.MAA000564.3_10_M.1.1                    69.736170             2592.0   \n",
       "A1.MAA000923.3_9_M.1.1                     90.522320            11002.0   \n",
       "\n",
       "                         log1p_total_counts_ERCC  pct_counts_ERCC  \n",
       "cell                                                               \n",
       "A1.B003290.3_38_F.1.1                   9.230339         2.615138  \n",
       "A1.B003728.3_56_F.1.1                  11.117688         8.674345  \n",
       "A1.MAA000560.3_10_M.1.1                10.304644         1.848292  \n",
       "A1.MAA000564.3_10_M.1.1                 7.860571         0.719992  \n",
       "A1.MAA000923.3_9_M.1.1                  9.305923         3.790107  "
      ]
     },
     "execution_count": 4,
     "metadata": {},
     "output_type": "execute_result"
    }
   ],
   "source": [
    "qc =sc.pp.calculate_qc_metrics(adata, qc_vars= ['ERCC'])\n",
    "#THIS this returns a tuple of \n",
    "# (cell_qc_dataframe, gene_qc_dataframe)\n",
    "# ask for the percentage of reads from spike ins\n",
    "\n",
    "cell_qc_dataframe = qc[0]\n",
    "gene_qc_dataframe = qc[1]\n",
    "\n",
    "print('This is the cell quality control dataframe:')\n",
    "cell_qc_dataframe.head()\n"
   ]
  },
  {
   "cell_type": "markdown",
   "metadata": {},
   "source": [
    "“total_genes_by_counts”. Number of genes with positive counts in a cell. (total gene count having True ERCC)\n",
    "“total_counts”. Total number of counts for a cell.\n",
    "“pct_counts_in_top_50_genes”. Cumulative percentage of counts for 50 most expressed genes in a cell.\n",
    "“total_counts_ercc”. Total number of counts for variabes in qc_vars.\n",
    "“pct_counts_ercc”. Proportion of total counts for a cell which are ercc.\n",
    "“total_counts”. Sum of counts for a gene.\n",
    "“n_genes_by_counts”. The number of genes with at least 1 count in a cell. Calculated for all cells.\n",
    "“mean_counts”. Mean expression over all cells.\n",
    "“n_cells_by_counts”. Number of cells this expression is measured in.\n",
    "“pct_dropout_by_counts”. Percentage of cells this feature does not appear in."
   ]
  },
  {
   "cell_type": "code",
   "execution_count": 5,
   "metadata": {},
   "outputs": [
    {
     "data": {
      "text/plain": [
       "' PLot between lop1p_n_genes_by_counts(log(1+x) where x is count of unique \\ngenes in a cell) and lop1p_total_counts(log(1+x) where x is the total count of \\ngenes in a cell'"
      ]
     },
     "execution_count": 5,
     "metadata": {},
     "output_type": "execute_result"
    },
    {
     "data": {
      "image/png": "[encoded data removed]",
      "text/plain": [
       "<Figure size 432x432 with 3 Axes>"
      ]
     },
     "metadata": {
      "needs_background": "light"
     },
     "output_type": "display_data"
    }
   ],
   "source": [
    "import seaborn as sns\n",
    "sns.jointplot(\n",
    "    data= cell_qc_dataframe,\n",
    "    x='log1p_total_counts',\n",
    "    y='log1p_n_genes_by_counts',\n",
    "    kind='hex'\n",
    ")\n",
    "\n",
    "''' PLot between lop1p_n_genes_by_counts(log(1+x) where x is count of unique \n",
    "genes in a cell) and lop1p_total_counts(log(1+x) where x is the total count of \n",
    "genes in a cell'''\n",
    "\n",
    "\n"
   ]
  },
  {
   "cell_type": "code",
   "execution_count": 6,
   "metadata": {},
   "outputs": [
    {
     "data": {
      "text/plain": [
       "<AxesSubplot:xlabel='pct_counts_ERCC', ylabel='Count'>"
      ]
     },
     "execution_count": 6,
     "metadata": {},
     "output_type": "execute_result"
    },
    {
     "data": {
      "image/png": "[encoded data removed]",
      "text/plain": [
       "<Figure size 432x288 with 1 Axes>"
      ]
     },
     "metadata": {
      "needs_background": "light"
     },
     "output_type": "display_data"
    }
   ],
   "source": [
    "#Code below plots a bivariate histogram using hexagonal bins with marginal histograms.\n",
    "\n",
    "sns.histplot(cell_qc_dataframe[\"pct_counts_ERCC\"])\n",
    "\n",
    "#Gives the histogram for pct_counts_ERCC - %genes in the cell which are ERCC\n"
   ]
  },
  {
   "cell_type": "code",
   "execution_count": 7,
   "metadata": {},
   "outputs": [
    {
     "name": "stdout",
     "output_type": "stream",
     "text": [
      "This is the gene quality control dataframe:\n"
     ]
    },
    {
     "data": {
      "text/html": [
       "<div>\n",
       "<style scoped>\n",
       "    .dataframe tbody tr th:only-of-type {\n",
       "        vertical-align: middle;\n",
       "    }\n",
       "\n",
       "    .dataframe tbody tr th {\n",
       "        vertical-align: top;\n",
       "    }\n",
       "\n",
       "    .dataframe thead th {\n",
       "        text-align: right;\n",
       "    }\n",
       "</style>\n",
       "<table border=\"1\" class=\"dataframe\">\n",
       "  <thead>\n",
       "    <tr style=\"text-align: right;\">\n",
       "      <th></th>\n",
       "      <th>n_cells_by_counts</th>\n",
       "      <th>mean_counts</th>\n",
       "      <th>log1p_mean_counts</th>\n",
       "      <th>pct_dropout_by_counts</th>\n",
       "      <th>total_counts</th>\n",
       "      <th>log1p_total_counts</th>\n",
       "    </tr>\n",
       "  </thead>\n",
       "  <tbody>\n",
       "    <tr>\n",
       "      <th>0610005C13Rik</th>\n",
       "      <td>28</td>\n",
       "      <td>0.118201</td>\n",
       "      <td>0.111721</td>\n",
       "      <td>99.176713</td>\n",
       "      <td>402.0</td>\n",
       "      <td>5.998937</td>\n",
       "    </tr>\n",
       "    <tr>\n",
       "      <th>0610007C21Rik</th>\n",
       "      <td>2399</td>\n",
       "      <td>206.211990</td>\n",
       "      <td>5.333742</td>\n",
       "      <td>29.461923</td>\n",
       "      <td>701327.0</td>\n",
       "      <td>13.460731</td>\n",
       "    </tr>\n",
       "    <tr>\n",
       "      <th>0610007L01Rik</th>\n",
       "      <td>961</td>\n",
       "      <td>35.938549</td>\n",
       "      <td>3.609256</td>\n",
       "      <td>71.743605</td>\n",
       "      <td>122227.0</td>\n",
       "      <td>11.713643</td>\n",
       "    </tr>\n",
       "    <tr>\n",
       "      <th>0610007N19Rik</th>\n",
       "      <td>272</td>\n",
       "      <td>6.498383</td>\n",
       "      <td>2.014687</td>\n",
       "      <td>92.002352</td>\n",
       "      <td>22101.0</td>\n",
       "      <td>10.003424</td>\n",
       "    </tr>\n",
       "    <tr>\n",
       "      <th>0610007P08Rik</th>\n",
       "      <td>582</td>\n",
       "      <td>16.328728</td>\n",
       "      <td>2.852366</td>\n",
       "      <td>82.887386</td>\n",
       "      <td>55534.0</td>\n",
       "      <td>10.924768</td>\n",
       "    </tr>\n",
       "  </tbody>\n",
       "</table>\n",
       "</div>"
      ],
      "text/plain": [
       "               n_cells_by_counts  mean_counts  log1p_mean_counts  \\\n",
       "0610005C13Rik                 28     0.118201           0.111721   \n",
       "0610007C21Rik               2399   206.211990           5.333742   \n",
       "0610007L01Rik                961    35.938549           3.609256   \n",
       "0610007N19Rik                272     6.498383           2.014687   \n",
       "0610007P08Rik                582    16.328728           2.852366   \n",
       "\n",
       "               pct_dropout_by_counts  total_counts  log1p_total_counts  \n",
       "0610005C13Rik              99.176713         402.0            5.998937  \n",
       "0610007C21Rik              29.461923      701327.0           13.460731  \n",
       "0610007L01Rik              71.743605      122227.0           11.713643  \n",
       "0610007N19Rik              92.002352       22101.0           10.003424  \n",
       "0610007P08Rik              82.887386       55534.0           10.924768  "
      ]
     },
     "execution_count": 7,
     "metadata": {},
     "output_type": "execute_result"
    }
   ],
   "source": [
    "print('This is the gene quality control dataframe:')\n",
    "gene_qc_dataframe.head()\n"
   ]
  },
  {
   "cell_type": "code",
   "execution_count": 8,
   "metadata": {},
   "outputs": [
    {
     "data": {
      "text/plain": [
       "<matplotlib.lines.Line2D at 0x1dd41e83af0>"
      ]
     },
     "execution_count": 8,
     "metadata": {},
     "output_type": "execute_result"
    },
    {
     "data": {
      "image/png": "[encoded data removed]",
      "text/plain": [
       "<Figure size 432x288 with 1 Axes>"
      ]
     },
     "metadata": {
      "needs_background": "light"
     },
     "output_type": "display_data"
    }
   ],
   "source": [
    "#Quality control for cells\n",
    "'''First consider the total number of reads per cell.\n",
    "Cells with few reads are likely to have been broken or failed to capture \n",
    "a cell andare thus removed '''\n",
    "\n",
    "plt.hist(cell_qc_dataframe['total_counts'], bins=1000)\n",
    "plt.xlabel(\"Total counts\")\n",
    "plt.ylabel('N cells')\n",
    "plt.axvline(50000, color = 'red')"
   ]
  },
  {
   "cell_type": "code",
   "execution_count": 9,
   "metadata": {},
   "outputs": [
    {
     "data": {
      "text/plain": [
       "0"
      ]
     },
     "execution_count": 9,
     "metadata": {},
     "output_type": "execute_result"
    }
   ],
   "source": [
    "sum(cell_qc_dataframe['total_counts'] < 50000)\n",
    "\n",
    "#this output indicates that the authors have already removed cells with fewer than 50,000 reads"
   ]
  },
  {
   "cell_type": "markdown",
   "metadata": {},
   "source": [
    "Detected Genes\n",
    "In addition to ensuring sufficient depth for each sample, it is neccessary to make sure reas are distributed across the transcriptome.\n",
    "Thus, count the total number of genes detected in each sample."
   ]
  },
  {
   "cell_type": "code",
   "execution_count": 10,
   "metadata": {},
   "outputs": [
    {
     "data": {
      "text/plain": [
       "<matplotlib.lines.Line2D at 0x1dd425604f0>"
      ]
     },
     "execution_count": 10,
     "metadata": {},
     "output_type": "execute_result"
    },
    {
     "data": {
      "image/png": "[encoded data removed]",
      "text/plain": [
       "<Figure size 432x288 with 1 Axes>"
      ]
     },
     "metadata": {
      "needs_background": "light"
     },
     "output_type": "display_data"
    }
   ],
   "source": [
    "plt.hist(cell_qc_dataframe['n_genes_by_counts'], bins=100)\n",
    "plt.xlabel('N genes')\n",
    "plt.ylabel('N cells')\n",
    "plt.axvline(1000, color = 'red')\n"
   ]
  },
  {
   "cell_type": "markdown",
   "metadata": {},
   "source": [
    "From the plot we conclude that most cells have between ~1,000-5,000 detected genes, which is typical for smartseq2 data. However, this varies by experimental protocol and sequencing depth.\n",
    "\n",
    "The most notable feature in the above plot is the little peak on the left hand side of the distribution. If detection rates were equal across the cells then the distribution should be approximately normal. Thus, we will remove those cells in the tail of the distribution (fewer than ~1000 detected genes)."
   ]
  },
  {
   "cell_type": "markdown",
   "metadata": {},
   "source": [
    "Spike-ins\n",
    "Another measure of cell quality is the ratio between ERCC spike-in RNAs and endogenous RNAs. This ratio can be used to estimate the total amount of RNA in the captured cells.\n",
    "Cells with a high level of spike-in RNAs had low starting amounts of RNA, likely due to the cell being dead or stressed which may result in the RNA being degraded."
   ]
  },
  {
   "cell_type": "code",
   "execution_count": 11,
   "metadata": {},
   "outputs": [
    {
     "data": {
      "text/plain": [
       "<matplotlib.lines.Line2D at 0x1dd4268f040>"
      ]
     },
     "execution_count": 11,
     "metadata": {},
     "output_type": "execute_result"
    },
    {
     "data": {
      "image/png": "[encoded data removed]",
      "text/plain": [
       "<Figure size 432x288 with 1 Axes>"
      ]
     },
     "metadata": {
      "needs_background": "light"
     },
     "output_type": "display_data"
    }
   ],
   "source": [
    "plt.hist(cell_qc_dataframe['pct_counts_ERCC'], bins = 1000)\n",
    "plt.xlabel('Percent counts ERCC')\n",
    "plt.ylabel('N cells')\n",
    "plt.axvline(10, color = 'red')\n",
    "\n",
    "\n",
    "#PLacing a threshold is always a judgement call. here,majority of cells have less\n",
    "#than 10% ERCC counts, but there is a long tail of cells that have very high spike counts;\n",
    "#these are likely dead cells and should be removed"
   ]
  },
  {
   "cell_type": "markdown",
   "metadata": {},
   "source": [
    "Cell Filtering based on above analysis\n",
    "There isn't an automatic function for removing cells with a high percentage of ERCC reads, but we can use a mask to remove them like so:\n",
    "\n",
    "Removing cells having ERCC percentage count >= 10\n",
    "Removing cell having gene count < 750"
   ]
  },
  {
   "cell_type": "code",
   "execution_count": 12,
   "metadata": {},
   "outputs": [
    {
     "name": "stdout",
     "output_type": "stream",
     "text": [
      "Started with: \n",
      " AnnData object with n_obs × n_vars = 3401 × 23433\n",
      "    obs: 'cell_ontology_class', 'subtissue', 'mouse.sex', 'mouse.id', 'plate.barcode'\n",
      "    var: 'ERCC'\n",
      "Finished with: \n",
      " AnnData object with n_obs × n_vars = 3304 × 23433\n",
      "    obs: 'cell_ontology_class', 'subtissue', 'mouse.sex', 'mouse.id', 'plate.barcode', 'n_genes'\n",
      "    var: 'ERCC'\n"
     ]
    }
   ],
   "source": [
    "#Filter cells with fewer than 750 genes detected.\n",
    "print('Started with: \\n', adata)\n",
    "sc.pp.filter_cells(adata, min_genes = 750)\n",
    "print('Finished with: \\n', adata)"
   ]
  },
  {
   "cell_type": "markdown",
   "metadata": {},
   "source": [
    "Quality Control for Genes\n",
    "It is typically a good idea to remove genes whose expression level is considered \"undetectable\".\n",
    "\n",
    "We define a gene as detectable if at least two cells contain more than 5 reads from the gene. However, the threshold strongly depends on the sequencing depth.\n",
    "It is important to keep in mind that genes must be filtered after cell filtering since some genes may only be detected in poor quality cells.\n",
    "First, we consider the total number of cell in which a gene is deteted. Genes with few cell count are outliers and should thus be removed."
   ]
  },
  {
   "cell_type": "code",
   "execution_count": 13,
   "metadata": {},
   "outputs": [
    {
     "data": {
      "text/html": [
       "<div>\n",
       "<style scoped>\n",
       "    .dataframe tbody tr th:only-of-type {\n",
       "        vertical-align: middle;\n",
       "    }\n",
       "\n",
       "    .dataframe tbody tr th {\n",
       "        vertical-align: top;\n",
       "    }\n",
       "\n",
       "    .dataframe thead th {\n",
       "        text-align: right;\n",
       "    }\n",
       "</style>\n",
       "<table border=\"1\" class=\"dataframe\">\n",
       "  <thead>\n",
       "    <tr style=\"text-align: right;\">\n",
       "      <th></th>\n",
       "      <th>n_cells_by_counts</th>\n",
       "      <th>mean_counts</th>\n",
       "      <th>log1p_mean_counts</th>\n",
       "      <th>pct_dropout_by_counts</th>\n",
       "      <th>total_counts</th>\n",
       "      <th>log1p_total_counts</th>\n",
       "    </tr>\n",
       "  </thead>\n",
       "  <tbody>\n",
       "    <tr>\n",
       "      <th>0610005C13Rik</th>\n",
       "      <td>28</td>\n",
       "      <td>0.118201</td>\n",
       "      <td>0.111721</td>\n",
       "      <td>99.176713</td>\n",
       "      <td>402.0</td>\n",
       "      <td>5.998937</td>\n",
       "    </tr>\n",
       "    <tr>\n",
       "      <th>0610007C21Rik</th>\n",
       "      <td>2399</td>\n",
       "      <td>206.211990</td>\n",
       "      <td>5.333742</td>\n",
       "      <td>29.461923</td>\n",
       "      <td>701327.0</td>\n",
       "      <td>13.460731</td>\n",
       "    </tr>\n",
       "    <tr>\n",
       "      <th>0610007L01Rik</th>\n",
       "      <td>961</td>\n",
       "      <td>35.938549</td>\n",
       "      <td>3.609256</td>\n",
       "      <td>71.743605</td>\n",
       "      <td>122227.0</td>\n",
       "      <td>11.713643</td>\n",
       "    </tr>\n",
       "    <tr>\n",
       "      <th>0610007N19Rik</th>\n",
       "      <td>272</td>\n",
       "      <td>6.498383</td>\n",
       "      <td>2.014687</td>\n",
       "      <td>92.002352</td>\n",
       "      <td>22101.0</td>\n",
       "      <td>10.003424</td>\n",
       "    </tr>\n",
       "    <tr>\n",
       "      <th>0610007P08Rik</th>\n",
       "      <td>582</td>\n",
       "      <td>16.328728</td>\n",
       "      <td>2.852366</td>\n",
       "      <td>82.887386</td>\n",
       "      <td>55534.0</td>\n",
       "      <td>10.924768</td>\n",
       "    </tr>\n",
       "  </tbody>\n",
       "</table>\n",
       "</div>"
      ],
      "text/plain": [
       "               n_cells_by_counts  mean_counts  log1p_mean_counts  \\\n",
       "0610005C13Rik                 28     0.118201           0.111721   \n",
       "0610007C21Rik               2399   206.211990           5.333742   \n",
       "0610007L01Rik                961    35.938549           3.609256   \n",
       "0610007N19Rik                272     6.498383           2.014687   \n",
       "0610007P08Rik                582    16.328728           2.852366   \n",
       "\n",
       "               pct_dropout_by_counts  total_counts  log1p_total_counts  \n",
       "0610005C13Rik              99.176713         402.0            5.998937  \n",
       "0610007C21Rik              29.461923      701327.0           13.460731  \n",
       "0610007L01Rik              71.743605      122227.0           11.713643  \n",
       "0610007N19Rik              92.002352       22101.0           10.003424  \n",
       "0610007P08Rik              82.887386       55534.0           10.924768  "
      ]
     },
     "execution_count": 13,
     "metadata": {},
     "output_type": "execute_result"
    }
   ],
   "source": [
    "gene_qc_dataframe.head()"
   ]
  },
  {
   "cell_type": "code",
   "execution_count": 14,
   "metadata": {},
   "outputs": [
    {
     "data": {
      "image/png": "[encoded data removed]",
      "text/plain": [
       "<Figure size 432x288 with 1 Axes>"
      ]
     },
     "metadata": {
      "needs_background": "light"
     },
     "output_type": "display_data"
    }
   ],
   "source": [
    "plt.hist(gene_qc_dataframe['n_cells_by_counts'], bins = 1000)\n",
    "plt.xlabel('N cells expressing > 0')\n",
    "plt.ylabel('log(N genes)') #for clarity\n",
    "plt.axvline(2, color = 'red')\n",
    "plt.yscale('log')\n"
   ]
  },
  {
   "cell_type": "code",
   "execution_count": 15,
   "metadata": {},
   "outputs": [
    {
     "name": "stdout",
     "output_type": "stream",
     "text": [
      "there are 3969 genes which have n_cells_by_counts <2\n"
     ]
    }
   ],
   "source": [
    "xs = sum(gene_qc_dataframe['n_cells_by_counts'] < 2)\n",
    "\n",
    "print('there are', xs, 'genes which have n_cells_by_counts <2')\n"
   ]
  },
  {
   "cell_type": "code",
   "execution_count": 16,
   "metadata": {},
   "outputs": [
    {
     "data": {
      "text/plain": [
       "<matplotlib.lines.Line2D at 0x1dd2ebce400>"
      ]
     },
     "execution_count": 16,
     "metadata": {},
     "output_type": "execute_result"
    },
    {
     "data": {
      "image/png": "[encoded data removed]",
      "text/plain": [
       "<Figure size 432x288 with 1 Axes>"
      ]
     },
     "metadata": {
      "needs_background": "light"
     },
     "output_type": "display_data"
    }
   ],
   "source": [
    "plt.hist(gene_qc_dataframe['total_counts'], bins = 1000)\n",
    "plt.xlabel('Total counts')\n",
    "plt.ylabel('log(N genes)') #for clarity\n",
    "plt.yscale('log')\n",
    "plt.axvline(10, color = 'red')"
   ]
  },
  {
   "cell_type": "code",
   "execution_count": 17,
   "metadata": {},
   "outputs": [
    {
     "name": "stdout",
     "output_type": "stream",
     "text": [
      "there are 4432 genes which have sum_counts <10\n"
     ]
    }
   ],
   "source": [
    "qs = sum(gene_qc_dataframe['total_counts'] < 10)\n",
    "\n",
    "print('there are', qs, 'genes which have sum_counts <10')\n"
   ]
  },
  {
   "cell_type": "code",
   "execution_count": 18,
   "metadata": {},
   "outputs": [
    {
     "name": "stdout",
     "output_type": "stream",
     "text": [
      "Started with: \n",
      " AnnData object with n_obs × n_vars = 3304 × 23433\n",
      "    obs: 'cell_ontology_class', 'subtissue', 'mouse.sex', 'mouse.id', 'plate.barcode', 'n_genes'\n",
      "    var: 'ERCC'\n",
      "finished with: \n",
      " AnnData object with n_obs × n_vars = 3304 × 18661\n",
      "    obs: 'cell_ontology_class', 'subtissue', 'mouse.sex', 'mouse.id', 'plate.barcode', 'n_genes'\n",
      "    var: 'ERCC', 'n_cells', 'n_counts'\n"
     ]
    }
   ],
   "source": [
    "#Removal of Genes with few cell counts\n",
    "\n",
    "print('Started with: \\n', adata)\n",
    "sc.pp.filter_genes(adata, min_cells = 2)\n",
    "sc.pp.filter_genes(adata, min_counts = 10)\n",
    "print('finished with: \\n', adata)\n",
    "\n",
    "#this will remove about 5k genes"
   ]
  },
  {
   "cell_type": "code",
   "execution_count": 19,
   "metadata": {},
   "outputs": [
    {
     "name": "stdout",
     "output_type": "stream",
     "text": [
      "AnnData object with n_obs × n_vars = 3304 × 18661\n",
      "    obs: 'cell_ontology_class', 'subtissue', 'mouse.sex', 'mouse.id', 'plate.barcode', 'n_genes'\n",
      "    var: 'ERCC', 'n_cells', 'n_counts'\n"
     ]
    },
    {
     "name": "stderr",
     "output_type": "stream",
     "text": [
      "'zip' is not recognized as an internal or external command,\n",
      "operable program or batch file.\n"
     ]
    }
   ],
   "source": [
    "#Saving Quality Controlled Data\n",
    "\n",
    "print(adata) #gives final dimensions of the QC'ed dataset\n",
    "adata.write('brain_qc.h5ad')\n",
    "\n",
    "!zip \"brain_qc.zip\" \"/.brain_qc.h5ad\""
   ]
  },
  {
   "cell_type": "markdown",
   "metadata": {},
   "source": [
    "Summary\n",
    "Calculated the quality control metrices across cells and genes.\n",
    "Perfomed quality control in cells by removing cells with less total gene count, less unique genes and gaving more spike-ins.\n",
    "Performed quality control in genes by removing genes which occur in less unique cells as well as those genes having less total cells.\n",
    "Saving the quality controlled data for further pipeline."
   ]
  }
 ],
 "metadata": {
  "interpreter": {
   "hash": "f9e49102ce60fd31ba360e1265a4d71517ad010be2713ad92243b7155191a4c9"
  },
  "kernelspec": {
   "display_name": "Python 3.8.12 ('base')",
   "language": "python",
   "name": "python3"
  },
  "language_info": {
   "codemirror_mode": {
    "name": "ipython",
    "version": 3
   },
   "file_extension": ".py",
   "mimetype": "text/x-python",
   "name": "python",
   "nbconvert_exporter": "python",
   "pygments_lexer": "ipython3",
   "version": "3.8.12"
  },
  "orig_nbformat": 4
 },
 "nbformat": 4,
 "nbformat_minor": 2
}
